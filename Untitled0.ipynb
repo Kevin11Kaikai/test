{
  "nbformat": 4,
  "nbformat_minor": 0,
  "metadata": {
    "colab": {
      "name": "Untitled0.ipynb",
      "provenance": [],
      "authorship_tag": "ABX9TyNMUHQmA6u341MMRwTnxsUo",
      "include_colab_link": true
    },
    "kernelspec": {
      "name": "python3",
      "display_name": "Python 3"
    },
    "language_info": {
      "name": "python"
    },
    "accelerator": "GPU"
  },
  "cells": [
    {
      "cell_type": "markdown",
      "metadata": {
        "id": "view-in-github",
        "colab_type": "text"
      },
      "source": [
        "<a href=\"https://colab.research.google.com/github/Kevin11Kaikai/test/blob/main/Untitled0.ipynb\" target=\"_parent\"><img src=\"https://colab.research.google.com/assets/colab-badge.svg\" alt=\"Open In Colab\"/></a>"
      ]
    },
    {
      "cell_type": "code",
      "metadata": {
        "id": "pBRgoG6nw6Q3",
        "colab": {
          "base_uri": "https://localhost:8080/"
        },
        "outputId": "ce764eb4-c5f4-4a5b-acb3-cb1cf8b0de99"
      },
      "source": [
        "a=10;\n",
        "b=5\n",
        "a+b"
      ],
      "execution_count": null,
      "outputs": [
        {
          "output_type": "execute_result",
          "data": {
            "text/plain": [
              "15"
            ]
          },
          "metadata": {
            "tags": []
          },
          "execution_count": 5
        }
      ]
    },
    {
      "cell_type": "markdown",
      "metadata": {
        "id": "zAGzddOKDKkZ"
      },
      "source": [
        "# New Section"
      ]
    },
    {
      "cell_type": "code",
      "metadata": {
        "colab": {
          "base_uri": "https://localhost:8080/"
        },
        "id": "GI2MHJ3aGQfm",
        "outputId": "2f86a7af-d8e4-4a44-c4a1-49cc8c7e7019"
      },
      "source": [
        "!nvidia-smi\n"
      ],
      "execution_count": null,
      "outputs": [
        {
          "output_type": "stream",
          "text": [
            "Tue Jul 13 13:42:54 2021       \n",
            "+-----------------------------------------------------------------------------+\n",
            "| NVIDIA-SMI 470.42.01    Driver Version: 460.32.03    CUDA Version: 11.2     |\n",
            "|-------------------------------+----------------------+----------------------+\n",
            "| GPU  Name        Persistence-M| Bus-Id        Disp.A | Volatile Uncorr. ECC |\n",
            "| Fan  Temp  Perf  Pwr:Usage/Cap|         Memory-Usage | GPU-Util  Compute M. |\n",
            "|                               |                      |               MIG M. |\n",
            "|===============================+======================+======================|\n",
            "|   0  Tesla K80           Off  | 00000000:00:04.0 Off |                    0 |\n",
            "| N/A   52C    P8    30W / 149W |      0MiB / 11441MiB |      0%      Default |\n",
            "|                               |                      |                  N/A |\n",
            "+-------------------------------+----------------------+----------------------+\n",
            "                                                                               \n",
            "+-----------------------------------------------------------------------------+\n",
            "| Processes:                                                                  |\n",
            "|  GPU   GI   CI        PID   Type   Process name                  GPU Memory |\n",
            "|        ID   ID                                                   Usage      |\n",
            "|=============================================================================|\n",
            "|  No running processes found                                                 |\n",
            "+-----------------------------------------------------------------------------+\n"
          ],
          "name": "stdout"
        }
      ]
    },
    {
      "cell_type": "code",
      "metadata": {
        "colab": {
          "base_uri": "https://localhost:8080/"
        },
        "id": "-QWnehZjH3pP",
        "outputId": "66780104-532d-4c66-b67c-a39ea823493f"
      },
      "source": [
        "from google.colab import drive\n",
        "drive.mount('/content/gdrive')\n",
        "!ls"
      ],
      "execution_count": null,
      "outputs": [
        {
          "output_type": "stream",
          "text": [
            "Drive already mounted at /content/gdrive; to attempt to forcibly remount, call drive.mount(\"/content/gdrive\", force_remount=True).\n",
            "2007_test.txt\t\t       __pycache__\n",
            "2007_train.txt\t\t       README.md\n",
            "2007_val.txt\t\t       test.py\n",
            "ac.sh\t\t\t       train.py\n",
            "FPS_test.py\t\t       utils\n",
            "get_dr_txt.py\t\t       video.py\n",
            "get_gt_txt.py\t\t       VOC07+12\n",
            "get_map.py\t\t       VOC07_test\n",
            "img\t\t\t       voc2yolo3.py\n",
            "LICENSE\t\t\t       voc_annotation.py\n",
            "logs\t\t\t       VOCdevkit\n",
            "model_data\t\t       yolo.py\n",
            "nets\t\t\t       yolo_weights.pth.baiduyun.p.downloading\n",
            "opencv-python-4.5.1.48.tar.gz  常见问题汇总.md\n",
            "predict.py\n"
          ],
          "name": "stdout"
        }
      ]
    },
    {
      "cell_type": "code",
      "metadata": {
        "colab": {
          "base_uri": "https://localhost:8080/"
        },
        "id": "8pC1OCtrIW26",
        "outputId": "dfe50a19-0009-4239-8900-c0601cd47efc"
      },
      "source": [
        "!pip list"
      ],
      "execution_count": null,
      "outputs": [
        {
          "output_type": "stream",
          "text": [
            "Package                       Version            \n",
            "----------------------------- -------------------\n",
            "absl-py                       0.12.0             \n",
            "alabaster                     0.7.12             \n",
            "albumentations                0.1.12             \n",
            "altair                        4.1.0              \n",
            "appdirs                       1.4.4              \n",
            "argon2-cffi                   20.1.0             \n",
            "arviz                         0.11.2             \n",
            "astor                         0.8.1              \n",
            "astropy                       4.2.1              \n",
            "astunparse                    1.6.3              \n",
            "async-generator               1.10               \n",
            "atari-py                      0.2.9              \n",
            "atomicwrites                  1.4.0              \n",
            "attrs                         21.2.0             \n",
            "audioread                     2.1.9              \n",
            "autograd                      1.3                \n",
            "Babel                         2.9.1              \n",
            "backcall                      0.2.0              \n",
            "beautifulsoup4                4.6.3              \n",
            "bleach                        3.3.0              \n",
            "blis                          0.4.1              \n",
            "bokeh                         2.3.2              \n",
            "Bottleneck                    1.3.2              \n",
            "branca                        0.4.2              \n",
            "bs4                           0.0.1              \n",
            "CacheControl                  0.12.6             \n",
            "cached-property               1.5.2              \n",
            "cachetools                    4.2.2              \n",
            "catalogue                     1.0.0              \n",
            "certifi                       2021.5.30          \n",
            "cffi                          1.14.5             \n",
            "cftime                        1.5.0              \n",
            "chardet                       3.0.4              \n",
            "click                         7.1.2              \n",
            "cloudpickle                   1.3.0              \n",
            "cmake                         3.12.0             \n",
            "cmdstanpy                     0.9.5              \n",
            "colorcet                      2.0.6              \n",
            "colorlover                    0.3.0              \n",
            "community                     1.0.0b1            \n",
            "contextlib2                   0.5.5              \n",
            "convertdate                   2.3.2              \n",
            "coverage                      3.7.1              \n",
            "coveralls                     0.5                \n",
            "crcmod                        1.7                \n",
            "cufflinks                     0.17.3             \n",
            "cupy-cuda101                  9.1.0              \n",
            "cvxopt                        1.2.6              \n",
            "cvxpy                         1.0.31             \n",
            "cycler                        0.10.0             \n",
            "cymem                         2.0.5              \n",
            "Cython                        0.29.23            \n",
            "daft                          0.0.4              \n",
            "dask                          2.12.0             \n",
            "datascience                   0.10.6             \n",
            "debugpy                       1.0.0              \n",
            "decorator                     4.4.2              \n",
            "defusedxml                    0.7.1              \n",
            "descartes                     1.1.0              \n",
            "dill                          0.3.4              \n",
            "distributed                   1.25.3             \n",
            "dlib                          19.18.0            \n",
            "dm-tree                       0.1.6              \n",
            "docopt                        0.6.2              \n",
            "docutils                      0.17.1             \n",
            "dopamine-rl                   1.0.5              \n",
            "earthengine-api               0.1.272            \n",
            "easydict                      1.9                \n",
            "ecos                          2.0.7.post1        \n",
            "editdistance                  0.5.3              \n",
            "en-core-web-sm                2.2.5              \n",
            "entrypoints                   0.3                \n",
            "ephem                         4.0.0.2            \n",
            "et-xmlfile                    1.1.0              \n",
            "fa2                           0.3.5              \n",
            "fastai                        1.0.61             \n",
            "fastdtw                       0.3.4              \n",
            "fastprogress                  1.0.0              \n",
            "fastrlock                     0.6                \n",
            "fbprophet                     0.7.1              \n",
            "feather-format                0.4.1              \n",
            "filelock                      3.0.12             \n",
            "firebase-admin                4.4.0              \n",
            "fix-yahoo-finance             0.0.22             \n",
            "Flask                         1.1.4              \n",
            "flatbuffers                   1.12               \n",
            "folium                        0.8.3              \n",
            "future                        0.16.0             \n",
            "gast                          0.4.0              \n",
            "GDAL                          2.2.2              \n",
            "gdown                         3.6.4              \n",
            "gensim                        3.6.0              \n",
            "geographiclib                 1.52               \n",
            "geopy                         1.17.0             \n",
            "gin-config                    0.4.0              \n",
            "glob2                         0.7                \n",
            "google                        2.0.3              \n",
            "google-api-core               1.26.3             \n",
            "google-api-python-client      1.12.8             \n",
            "google-auth                   1.32.1             \n",
            "google-auth-httplib2          0.0.4              \n",
            "google-auth-oauthlib          0.4.4              \n",
            "google-cloud-bigquery         1.21.0             \n",
            "google-cloud-bigquery-storage 1.1.0              \n",
            "google-cloud-core             1.0.3              \n",
            "google-cloud-datastore        1.8.0              \n",
            "google-cloud-firestore        1.7.0              \n",
            "google-cloud-language         1.2.0              \n",
            "google-cloud-storage          1.18.1             \n",
            "google-cloud-translate        1.5.0              \n",
            "google-colab                  1.0.0              \n",
            "google-pasta                  0.2.0              \n",
            "google-resumable-media        0.4.1              \n",
            "googleapis-common-protos      1.53.0             \n",
            "googledrivedownloader         0.4                \n",
            "graphviz                      0.10.1             \n",
            "greenlet                      1.1.0              \n",
            "grpcio                        1.34.1             \n",
            "gspread                       3.0.1              \n",
            "gspread-dataframe             3.0.8              \n",
            "gym                           0.17.3             \n",
            "h5py                          3.1.0              \n",
            "HeapDict                      1.0.1              \n",
            "hijri-converter               2.1.3              \n",
            "holidays                      0.10.5.2           \n",
            "holoviews                     1.14.4             \n",
            "html5lib                      1.0.1              \n",
            "httpimport                    0.5.18             \n",
            "httplib2                      0.17.4             \n",
            "httplib2shim                  0.0.3              \n",
            "humanize                      0.5.1              \n",
            "hyperopt                      0.1.2              \n",
            "ideep4py                      2.0.0.post3        \n",
            "idna                          2.10               \n",
            "imageio                       2.4.1              \n",
            "imagesize                     1.2.0              \n",
            "imbalanced-learn              0.4.3              \n",
            "imblearn                      0.0                \n",
            "imgaug                        0.2.9              \n",
            "importlib-metadata            4.6.0              \n",
            "importlib-resources           5.2.0              \n",
            "imutils                       0.5.4              \n",
            "inflect                       2.1.0              \n",
            "iniconfig                     1.1.1              \n",
            "install                       1.3.4              \n",
            "intel-openmp                  2021.3.0           \n",
            "intervaltree                  2.1.0              \n",
            "ipykernel                     4.10.1             \n",
            "ipython                       5.5.0              \n",
            "ipython-genutils              0.2.0              \n",
            "ipython-sql                   0.3.9              \n",
            "ipywidgets                    7.6.3              \n",
            "itsdangerous                  1.1.0              \n",
            "jax                           0.2.13             \n",
            "jaxlib                        0.1.66+cuda110     \n",
            "jdcal                         1.4.1              \n",
            "jedi                          0.18.0             \n",
            "jieba                         0.42.1             \n",
            "Jinja2                        2.11.3             \n",
            "joblib                        1.0.1              \n",
            "jpeg4py                       0.1.4              \n",
            "jsonschema                    2.6.0              \n",
            "jupyter                       1.0.0              \n",
            "jupyter-client                5.3.5              \n",
            "jupyter-console               5.2.0              \n",
            "jupyter-core                  4.7.1              \n",
            "jupyterlab-pygments           0.1.2              \n",
            "jupyterlab-widgets            1.0.0              \n",
            "kaggle                        1.5.12             \n",
            "kapre                         0.3.5              \n",
            "Keras                         2.4.3              \n",
            "keras-nightly                 2.5.0.dev2021032900\n",
            "Keras-Preprocessing           1.1.2              \n",
            "keras-vis                     0.4.1              \n",
            "kiwisolver                    1.3.1              \n",
            "korean-lunar-calendar         0.2.1              \n",
            "librosa                       0.8.1              \n",
            "lightgbm                      2.2.3              \n",
            "llvmlite                      0.34.0             \n",
            "lmdb                          0.99               \n",
            "LunarCalendar                 0.0.9              \n",
            "lxml                          4.2.6              \n",
            "Markdown                      3.3.4              \n",
            "MarkupSafe                    2.0.1              \n",
            "matplotlib                    3.2.2              \n",
            "matplotlib-inline             0.1.2              \n",
            "matplotlib-venn               0.11.6             \n",
            "missingno                     0.4.2              \n",
            "mistune                       0.8.4              \n",
            "mizani                        0.6.0              \n",
            "mkl                           2019.0             \n",
            "mlxtend                       0.14.0             \n",
            "more-itertools                8.8.0              \n",
            "moviepy                       0.2.3.5            \n",
            "mpmath                        1.2.1              \n",
            "msgpack                       1.0.2              \n",
            "multiprocess                  0.70.12.2          \n",
            "multitasking                  0.0.9              \n",
            "murmurhash                    1.0.5              \n",
            "music21                       5.5.0              \n",
            "natsort                       5.5.0              \n",
            "nbclient                      0.5.3              \n",
            "nbconvert                     5.6.1              \n",
            "nbformat                      5.1.3              \n",
            "nest-asyncio                  1.5.1              \n",
            "netCDF4                       1.5.7              \n",
            "networkx                      2.5.1              \n",
            "nibabel                       3.0.2              \n",
            "nltk                          3.2.5              \n",
            "notebook                      5.3.1              \n",
            "numba                         0.51.2             \n",
            "numexpr                       2.7.3              \n",
            "numpy                         1.19.5             \n",
            "nvidia-ml-py3                 7.352.0            \n",
            "oauth2client                  4.1.3              \n",
            "oauthlib                      3.1.1              \n",
            "okgrade                       0.4.3              \n",
            "opencv-contrib-python         4.1.2.30           \n",
            "opencv-python                 4.1.2.30           \n",
            "openpyxl                      2.5.9              \n",
            "opt-einsum                    3.3.0              \n",
            "osqp                          0.6.2.post0        \n",
            "packaging                     20.9               \n",
            "palettable                    3.3.0              \n",
            "pandas                        1.1.5              \n",
            "pandas-datareader             0.9.0              \n",
            "pandas-gbq                    0.13.3             \n",
            "pandas-profiling              1.4.1              \n",
            "pandocfilters                 1.4.3              \n",
            "panel                         0.11.3             \n",
            "param                         1.10.1             \n",
            "parso                         0.8.2              \n",
            "pathlib                       1.0.1              \n",
            "patsy                         0.5.1              \n",
            "pexpect                       4.8.0              \n",
            "pickleshare                   0.7.5              \n",
            "Pillow                        7.1.2              \n",
            "pip                           19.3.1             \n",
            "pip-tools                     4.5.1              \n",
            "plac                          1.1.3              \n",
            "plotly                        4.4.1              \n",
            "plotnine                      0.6.0              \n",
            "pluggy                        0.7.1              \n",
            "pooch                         1.4.0              \n",
            "portpicker                    1.3.9              \n",
            "prefetch-generator            1.0.1              \n",
            "preshed                       3.0.5              \n",
            "prettytable                   2.1.0              \n",
            "progressbar2                  3.38.0             \n",
            "prometheus-client             0.11.0             \n",
            "promise                       2.3                \n",
            "prompt-toolkit                1.0.18             \n",
            "protobuf                      3.17.3             \n",
            "psutil                        5.4.8              \n",
            "psycopg2                      2.7.6.1            \n",
            "ptyprocess                    0.7.0              \n",
            "py                            1.10.0             \n",
            "pyarrow                       3.0.0              \n",
            "pyasn1                        0.4.8              \n",
            "pyasn1-modules                0.2.8              \n",
            "pycocotools                   2.0.2              \n",
            "pycparser                     2.20               \n",
            "pyct                          0.4.8              \n",
            "pydata-google-auth            1.2.0              \n",
            "pydot                         1.3.0              \n",
            "pydot-ng                      2.0.0              \n",
            "pydotplus                     2.0.2              \n",
            "PyDrive                       1.3.1              \n",
            "pyemd                         0.5.1              \n",
            "pyerfa                        2.0.0              \n",
            "pyglet                        1.5.0              \n",
            "Pygments                      2.6.1              \n",
            "pygobject                     3.26.1             \n",
            "pymc3                         3.11.2             \n",
            "PyMeeus                       0.5.11             \n",
            "pymongo                       3.11.4             \n",
            "pymystem3                     0.2.0              \n",
            "PyOpenGL                      3.1.5              \n",
            "pyparsing                     2.4.7              \n",
            "pyrsistent                    0.18.0             \n",
            "pysndfile                     1.3.8              \n",
            "PySocks                       1.7.1              \n",
            "pystan                        2.19.1.1           \n",
            "pytest                        3.6.4              \n",
            "python-apt                    0.0.0              \n",
            "python-chess                  0.23.11            \n",
            "python-dateutil               2.8.1              \n",
            "python-louvain                0.15               \n",
            "python-slugify                5.0.2              \n",
            "python-utils                  2.5.6              \n",
            "pytz                          2018.9             \n",
            "pyviz-comms                   2.1.0              \n",
            "PyWavelets                    1.1.1              \n",
            "PyYAML                        3.13               \n",
            "pyzmq                         22.1.0             \n",
            "qdldl                         0.1.5.post0        \n",
            "qtconsole                     5.1.1              \n",
            "QtPy                          1.9.0              \n",
            "regex                         2019.12.20         \n",
            "requests                      2.23.0             \n",
            "requests-oauthlib             1.3.0              \n",
            "resampy                       0.2.2              \n",
            "retrying                      1.3.3              \n",
            "rpy2                          3.4.5              \n",
            "rsa                           4.7.2              \n",
            "scikit-image                  0.16.2             \n",
            "scikit-learn                  0.22.2.post1       \n",
            "scipy                         1.4.1              \n",
            "screen-resolution-extra       0.0.0              \n",
            "scs                           2.1.4              \n",
            "seaborn                       0.11.1             \n",
            "semver                        2.13.0             \n",
            "Send2Trash                    1.7.1              \n",
            "setuptools                    57.0.0             \n",
            "setuptools-git                1.2                \n",
            "Shapely                       1.7.1              \n",
            "simplegeneric                 0.8.1              \n",
            "six                           1.15.0             \n",
            "sklearn                       0.0                \n",
            "sklearn-pandas                1.8.0              \n",
            "smart-open                    5.1.0              \n",
            "snowballstemmer               2.1.0              \n",
            "sortedcontainers              2.4.0              \n",
            "SoundFile                     0.10.3.post1       \n",
            "spacy                         2.2.4              \n",
            "Sphinx                        1.8.5              \n",
            "sphinxcontrib-serializinghtml 1.1.5              \n",
            "sphinxcontrib-websupport      1.2.4              \n",
            "SQLAlchemy                    1.4.20             \n",
            "sqlparse                      0.4.1              \n",
            "srsly                         1.0.5              \n",
            "statsmodels                   0.10.2             \n",
            "sympy                         1.7.1              \n",
            "tables                        3.4.4              \n",
            "tabulate                      0.8.9              \n",
            "tblib                         1.7.0              \n",
            "tensorboard                   2.5.0              \n",
            "tensorboard-data-server       0.6.1              \n",
            "tensorboard-plugin-wit        1.8.0              \n",
            "tensorflow                    2.5.0              \n",
            "tensorflow-datasets           4.0.1              \n",
            "tensorflow-estimator          2.5.0              \n",
            "tensorflow-gcs-config         2.5.0              \n",
            "tensorflow-hub                0.12.0             \n",
            "tensorflow-metadata           1.1.0              \n",
            "tensorflow-probability        0.13.0             \n",
            "termcolor                     1.1.0              \n",
            "terminado                     0.10.1             \n",
            "testpath                      0.5.0              \n",
            "text-unidecode                1.3                \n",
            "textblob                      0.15.3             \n",
            "Theano-PyMC                   1.1.2              \n",
            "thinc                         7.4.0              \n",
            "tifffile                      2021.7.2           \n",
            "toml                          0.10.2             \n",
            "toolz                         0.11.1             \n",
            "torch                         1.9.0+cu102        \n",
            "torchsummary                  1.5.1              \n",
            "torchtext                     0.10.0             \n",
            "torchvision                   0.10.0+cu102       \n",
            "tornado                       5.1.1              \n",
            "tqdm                          4.41.1             \n",
            "traitlets                     5.0.5              \n",
            "tweepy                        3.10.0             \n",
            "typeguard                     2.7.1              \n",
            "typing-extensions             3.7.4.3            \n",
            "tzlocal                       1.5.1              \n",
            "uritemplate                   3.0.1              \n",
            "urllib3                       1.24.3             \n",
            "vega-datasets                 0.9.0              \n",
            "wasabi                        0.8.2              \n",
            "wcwidth                       0.2.5              \n",
            "webencodings                  0.5.1              \n",
            "Werkzeug                      1.0.1              \n",
            "wheel                         0.36.2             \n",
            "widgetsnbextension            3.5.1              \n",
            "wordcloud                     1.5.0              \n",
            "wrapt                         1.12.1             \n",
            "xarray                        0.18.2             \n",
            "xgboost                       0.90               \n",
            "xkit                          0.0.0              \n",
            "xlrd                          1.1.0              \n",
            "xlwt                          1.3.0              \n",
            "yellowbrick                   0.9.1              \n",
            "zict                          2.0.0              \n",
            "zipp                          3.4.1              \n"
          ],
          "name": "stdout"
        }
      ]
    },
    {
      "cell_type": "markdown",
      "metadata": {
        "id": "vIYmTZiGFjcI"
      },
      "source": [
        "# New Section"
      ]
    },
    {
      "cell_type": "code",
      "metadata": {
        "colab": {
          "base_uri": "https://localhost:8080/"
        },
        "id": "v2BdqTrZIW4x",
        "outputId": "900a1187-8f9c-42a2-e02c-b0ed20030e5f"
      },
      "source": [
        "!pip install pygame"
      ],
      "execution_count": null,
      "outputs": [
        {
          "output_type": "stream",
          "text": [
            "Collecting pygame\n",
            "\u001b[?25l  Downloading https://files.pythonhosted.org/packages/4b/9e/c400554dd1d0e562bd4379f35ad5023c68fc120003a58991405850f56f95/pygame-2.0.1-cp37-cp37m-manylinux1_x86_64.whl (11.8MB)\n",
            "\u001b[K     |████████████████████████████████| 11.8MB 20.1MB/s \n",
            "\u001b[?25hInstalling collected packages: pygame\n",
            "Successfully installed pygame-2.0.1\n"
          ],
          "name": "stdout"
        }
      ]
    },
    {
      "cell_type": "code",
      "metadata": {
        "colab": {
          "base_uri": "https://localhost:8080/"
        },
        "id": "0W2Djh-jIp86",
        "outputId": "3ed5fa5b-c6d9-4f12-ac3c-68c0f4138c64"
      },
      "source": [
        "!pip show pygame"
      ],
      "execution_count": null,
      "outputs": [
        {
          "output_type": "stream",
          "text": [
            "Name: pygame\n",
            "Version: 2.0.1\n",
            "Summary: Python Game Development\n",
            "Home-page: https://www.pygame.org\n",
            "Author: A community project.\n",
            "Author-email: pygame@pygame.org\n",
            "License: LGPL\n",
            "Location: /usr/local/lib/python3.7/dist-packages\n",
            "Requires: \n",
            "Required-by: \n"
          ],
          "name": "stdout"
        }
      ]
    },
    {
      "cell_type": "code",
      "metadata": {
        "id": "s6W2n0U-KKt3"
      },
      "source": [
        "!cd /content/gdrive/MyDrive/yolo3-pytorch"
      ],
      "execution_count": null,
      "outputs": []
    },
    {
      "cell_type": "code",
      "metadata": {
        "colab": {
          "base_uri": "https://localhost:8080/"
        },
        "id": "TXxXKqMVKU3s",
        "outputId": "508e72e1-ee5e-4f9c-ba33-90b289cc7036"
      },
      "source": [
        "import os\n",
        "path=\"/content/gdrive/MyDrive/yolo3-pytorch\"\n",
        "os.chdir(path)\n",
        "os.listdir(path)"
      ],
      "execution_count": null,
      "outputs": [
        {
          "output_type": "execute_result",
          "data": {
            "text/plain": [
              "['ac.sh',\n",
              " 'VOC07_test',\n",
              " 'VOC07+12',\n",
              " 'model_data',\n",
              " 'nets',\n",
              " 'utils',\n",
              " 'VOCdevkit',\n",
              " 'logs',\n",
              " '.git',\n",
              " '__pycache__',\n",
              " 'img',\n",
              " '2007_test.txt',\n",
              " '2007_train.txt',\n",
              " '2007_val.txt',\n",
              " 'get_gt_txt.py',\n",
              " 'FPS_test.py',\n",
              " 'get_dr_txt.py',\n",
              " 'get_map.py',\n",
              " 'LICENSE',\n",
              " 'predict.py',\n",
              " 'README.md',\n",
              " 'test.py',\n",
              " 'video.py',\n",
              " 'train.py',\n",
              " 'voc_annotation.py',\n",
              " 'voc2yolo3.py',\n",
              " 'yolo.py',\n",
              " '常见问题汇总.md',\n",
              " 'yolo_weights.pth.baiduyun.p.downloading']"
            ]
          },
          "metadata": {
            "tags": []
          },
          "execution_count": 9
        }
      ]
    },
    {
      "cell_type": "code",
      "metadata": {
        "colab": {
          "base_uri": "https://localhost:8080/"
        },
        "id": "EUq36oGMKryE",
        "outputId": "614d9b29-7f78-4c06-d8dc-ab07ab6da69a"
      },
      "source": [
        "!python predict.py"
      ],
      "execution_count": null,
      "outputs": [
        {
          "output_type": "stream",
          "text": [
            "Loading weights into state dict...\n",
            "model_data/yolo_weights.pth model, anchors, and classes loaded.\n",
            "Input image filename:img/street.jpg\n",
            "b'person 1.00' 532 73 958 275\n",
            "b'person 1.00' 495 906 998 1157\n",
            "b'person 0.99' 518 497 869 667\n",
            "b'person 0.98' 524 431 876 560\n",
            "b'person 0.97' 568 377 700 426\n",
            "b'person 0.94' 563 327 699 372\n",
            "b'person 0.89' 564 349 694 391\n",
            "b'person 0.76' 573 214 696 269\n",
            "b'bicycle 1.00' 714 776 1042 1249\n",
            "b'car 0.99' 579 652 775 966\n",
            "b'car 0.93' 537 578 731 786\n",
            "b'car 0.82' 598 0 692 51\n",
            "Input image filename:img/Person.jpg\n",
            "b'person 1.00' 39 4 369 272\n",
            "Input image filename:Traceback (most recent call last):\n",
            "  File \"predict.py\", line 15, in <module>\n",
            "    img = input('Input image filename:')\n",
            "KeyboardInterrupt\n",
            "^C\n"
          ],
          "name": "stdout"
        }
      ]
    },
    {
      "cell_type": "code",
      "metadata": {
        "colab": {
          "base_uri": "https://localhost:8080/"
        },
        "id": "CRnXJM_VLGG1",
        "outputId": "67872223-7a54-4c02-995c-ea46b60b76b5"
      },
      "source": [
        "!python train.py"
      ],
      "execution_count": null,
      "outputs": [
        {
          "output_type": "stream",
          "text": [
            "Loading weights into state dict...\n",
            "Finished!\n",
            "Traceback (most recent call last):\n",
            "  File \"train.py\", line 172, in <module>\n",
            "    lines = f.readlines()\n",
            "  File \"/usr/lib/python3.7/codecs.py\", line 322, in decode\n",
            "    (result, consumed) = self._buffer_decode(data, self.errors, final)\n",
            "UnicodeDecodeError: 'utf-8' codec can't decode byte 0xc1 in position 10: invalid start byte\n"
          ],
          "name": "stdout"
        }
      ]
    },
    {
      "cell_type": "code",
      "metadata": {
        "colab": {
          "base_uri": "https://localhost:8080/"
        },
        "id": "yqwsgeBkL-pl",
        "outputId": "60b9dc1a-617f-498f-d4da-e938d097431d"
      },
      "source": [
        "!wget -qO ac.sh https://repo.anaconda.com/archive/Anaconda3-5.2.0-Linux-x86_64.sh\n",
        "!bash ./ac.sh -b"
      ],
      "execution_count": null,
      "outputs": [
        {
          "output_type": "stream",
          "text": [
            "PREFIX=/root/anaconda3\n",
            "installing: python-3.6.5-hc3d631a_2 ...\n",
            "Python 3.6.5 :: Anaconda, Inc.\n",
            "installing: blas-1.0-mkl ...\n",
            "installing: ca-certificates-2018.03.07-0 ...\n",
            "installing: conda-env-2.6.0-h36134e3_1 ...\n",
            "installing: intel-openmp-2018.0.0-8 ...\n",
            "installing: libgcc-ng-7.2.0-hdf63c60_3 ...\n",
            "installing: libgfortran-ng-7.2.0-hdf63c60_3 ...\n",
            "installing: libstdcxx-ng-7.2.0-hdf63c60_3 ...\n",
            "installing: bzip2-1.0.6-h14c3975_5 ...\n",
            "installing: expat-2.2.5-he0dffb1_0 ...\n",
            "installing: gmp-6.1.2-h6c8ec71_1 ...\n",
            "installing: graphite2-1.3.11-h16798f4_2 ...\n",
            "installing: icu-58.2-h9c2bf20_1 ...\n",
            "installing: jbig-2.1-hdba287a_0 ...\n",
            "installing: jpeg-9b-h024ee3a_2 ...\n",
            "installing: libffi-3.2.1-hd88cf55_4 ...\n",
            "installing: libsodium-1.0.16-h1bed415_0 ...\n",
            "installing: libtool-2.4.6-h544aabb_3 ...\n",
            "installing: libxcb-1.13-h1bed415_1 ...\n",
            "installing: lzo-2.10-h49e0be7_2 ...\n",
            "installing: mkl-2018.0.2-1 ...\n",
            "installing: ncurses-6.1-hf484d3e_0 ...\n",
            "installing: openssl-1.0.2o-h20670df_0 ...\n",
            "installing: patchelf-0.9-hf79760b_2 ...\n",
            "installing: pcre-8.42-h439df22_0 ...\n",
            "installing: pixman-0.34.0-hceecf20_3 ...\n",
            "installing: snappy-1.1.7-hbae5bb6_3 ...\n",
            "installing: tk-8.6.7-hc745277_3 ...\n",
            "installing: unixodbc-2.3.6-h1bed415_0 ...\n",
            "installing: xz-5.2.4-h14c3975_4 ...\n",
            "installing: yaml-0.1.7-had09818_2 ...\n",
            "installing: zlib-1.2.11-ha838bed_2 ...\n",
            "installing: blosc-1.14.3-hdbcaa40_0 ...\n",
            "installing: glib-2.56.1-h000015b_0 ...\n",
            "installing: hdf5-1.10.2-hba1933b_1 ...\n",
            "installing: libedit-3.1.20170329-h6b74fdf_2 ...\n",
            "installing: libpng-1.6.34-hb9fc6fc_0 ...\n",
            "installing: libssh2-1.8.0-h9cfc8f7_4 ...\n",
            "installing: libtiff-4.0.9-he85c1e1_1 ...\n",
            "installing: libxml2-2.9.8-h26e45fe_1 ...\n",
            "installing: mpfr-3.1.5-h11a74b3_2 ...\n",
            "installing: pandoc-1.19.2.1-hea2e7c5_1 ...\n",
            "installing: readline-7.0-ha6073c6_4 ...\n",
            "installing: zeromq-4.2.5-h439df22_0 ...\n",
            "installing: dbus-1.13.2-h714fa37_1 ...\n",
            "installing: freetype-2.8-hab7d2ae_1 ...\n",
            "installing: gstreamer-1.14.0-hb453b48_1 ...\n",
            "installing: libcurl-7.60.0-h1ad7b7a_0 ...\n",
            "installing: libxslt-1.1.32-h1312cb7_0 ...\n",
            "installing: mpc-1.0.3-hec55b23_5 ...\n",
            "installing: sqlite-3.23.1-he433501_0 ...\n",
            "installing: curl-7.60.0-h84994c4_0 ...\n",
            "installing: fontconfig-2.12.6-h49f89f6_0 ...\n",
            "installing: gst-plugins-base-1.14.0-hbbd80ab_1 ...\n",
            "installing: alabaster-0.7.10-py36h306e16b_0 ...\n",
            "installing: asn1crypto-0.24.0-py36_0 ...\n",
            "installing: attrs-18.1.0-py36_0 ...\n",
            "installing: backcall-0.1.0-py36_0 ...\n",
            "installing: backports-1.0-py36hfa02d7e_1 ...\n",
            "installing: beautifulsoup4-4.6.0-py36h49b8c8c_1 ...\n",
            "installing: bitarray-0.8.1-py36h14c3975_1 ...\n",
            "installing: boto-2.48.0-py36h6e4cd66_1 ...\n",
            "installing: cairo-1.14.12-h7636065_2 ...\n",
            "installing: certifi-2018.4.16-py36_0 ...\n",
            "installing: chardet-3.0.4-py36h0f667ec_1 ...\n",
            "installing: click-6.7-py36h5253387_0 ...\n",
            "installing: cloudpickle-0.5.3-py36_0 ...\n",
            "installing: colorama-0.3.9-py36h489cec4_0 ...\n",
            "installing: contextlib2-0.5.5-py36h6c84a62_0 ...\n",
            "installing: dask-core-0.17.5-py36_0 ...\n",
            "installing: decorator-4.3.0-py36_0 ...\n",
            "installing: docutils-0.14-py36hb0f60f5_0 ...\n",
            "installing: entrypoints-0.2.3-py36h1aec115_2 ...\n",
            "installing: et_xmlfile-1.0.1-py36hd6bccc3_0 ...\n",
            "installing: fastcache-1.0.2-py36h14c3975_2 ...\n",
            "installing: filelock-3.0.4-py36_0 ...\n",
            "installing: glob2-0.6-py36he249c77_0 ...\n",
            "installing: gmpy2-2.0.8-py36hc8893dd_2 ...\n",
            "installing: greenlet-0.4.13-py36h14c3975_0 ...\n",
            "installing: heapdict-1.0.0-py36_2 ...\n",
            "installing: idna-2.6-py36h82fb2a8_1 ...\n",
            "installing: imagesize-1.0.0-py36_0 ...\n",
            "installing: ipython_genutils-0.2.0-py36hb52b0d5_0 ...\n",
            "installing: itsdangerous-0.24-py36h93cc618_1 ...\n",
            "installing: jdcal-1.4-py36_0 ...\n",
            "installing: kiwisolver-1.0.1-py36h764f252_0 ...\n",
            "installing: lazy-object-proxy-1.3.1-py36h10fcdad_0 ...\n",
            "installing: llvmlite-0.23.1-py36hdbcaa40_0 ...\n",
            "installing: locket-0.2.0-py36h787c0ad_1 ...\n",
            "installing: lxml-4.2.1-py36h23eabaa_0 ...\n",
            "installing: markupsafe-1.0-py36hd9260cd_1 ...\n",
            "installing: mccabe-0.6.1-py36h5ad9710_1 ...\n",
            "installing: mistune-0.8.3-py36h14c3975_1 ...\n",
            "installing: mkl-service-1.1.2-py36h17a0993_4 ...\n",
            "installing: mpmath-1.0.0-py36hfeacd6b_2 ...\n",
            "installing: msgpack-python-0.5.6-py36h6bb024c_0 ...\n",
            "installing: multipledispatch-0.5.0-py36_0 ...\n",
            "installing: numpy-base-1.14.3-py36h9be14a7_1 ...\n",
            "installing: olefile-0.45.1-py36_0 ...\n",
            "installing: pandocfilters-1.4.2-py36ha6701b7_1 ...\n",
            "installing: parso-0.2.0-py36_0 ...\n",
            "installing: path.py-11.0.1-py36_0 ...\n",
            "installing: pep8-1.7.1-py36_0 ...\n",
            "installing: pickleshare-0.7.4-py36h63277f8_0 ...\n",
            "installing: pkginfo-1.4.2-py36_1 ...\n",
            "installing: pluggy-0.6.0-py36hb689045_0 ...\n",
            "installing: ply-3.11-py36_0 ...\n",
            "installing: psutil-5.4.5-py36h14c3975_0 ...\n",
            "installing: ptyprocess-0.5.2-py36h69acd42_0 ...\n",
            "installing: py-1.5.3-py36_0 ...\n",
            "installing: pycodestyle-2.4.0-py36_0 ...\n",
            "installing: pycosat-0.6.3-py36h0a5515d_0 ...\n",
            "installing: pycparser-2.18-py36hf9f622e_1 ...\n",
            "installing: pycrypto-2.6.1-py36h14c3975_8 ...\n",
            "installing: pycurl-7.43.0.1-py36hb7f436b_0 ...\n",
            "installing: pyodbc-4.0.23-py36hf484d3e_0 ...\n",
            "installing: pyparsing-2.2.0-py36hee85983_1 ...\n",
            "installing: pysocks-1.6.8-py36_0 ...\n",
            "installing: pytz-2018.4-py36_0 ...\n",
            "installing: pyyaml-3.12-py36hafb9ca4_1 ...\n",
            "installing: pyzmq-17.0.0-py36h14c3975_0 ...\n",
            "installing: qt-5.9.5-h7e424d6_0 ...\n",
            "installing: qtpy-1.4.1-py36_0 ...\n",
            "installing: rope-0.10.7-py36h147e2ec_0 ...\n",
            "installing: ruamel_yaml-0.15.35-py36h14c3975_1 ...\n",
            "installing: send2trash-1.5.0-py36_0 ...\n",
            "installing: simplegeneric-0.8.1-py36_2 ...\n",
            "installing: sip-4.19.8-py36hf484d3e_0 ...\n",
            "installing: six-1.11.0-py36h372c433_1 ...\n",
            "installing: snowballstemmer-1.2.1-py36h6febd40_0 ...\n",
            "installing: sortedcontainers-1.5.10-py36_0 ...\n",
            "installing: sphinxcontrib-1.0-py36h6d0f590_1 ...\n",
            "installing: sqlalchemy-1.2.7-py36h6b74fdf_0 ...\n",
            "installing: tblib-1.3.2-py36h34cf8b6_0 ...\n",
            "installing: testpath-0.3.1-py36h8cadb63_0 ...\n",
            "installing: toolz-0.9.0-py36_0 ...\n",
            "installing: tornado-5.0.2-py36_0 ...\n",
            "installing: typing-3.6.4-py36_0 ...\n",
            "installing: unicodecsv-0.14.1-py36ha668878_0 ...\n",
            "installing: wcwidth-0.1.7-py36hdf4376a_0 ...\n",
            "installing: webencodings-0.5.1-py36h800622e_1 ...\n",
            "installing: werkzeug-0.14.1-py36_0 ...\n",
            "installing: wrapt-1.10.11-py36h28b7045_0 ...\n",
            "installing: xlrd-1.1.0-py36h1db9f0c_1 ...\n",
            "installing: xlsxwriter-1.0.4-py36_0 ...\n",
            "installing: xlwt-1.3.0-py36h7b00a1f_0 ...\n",
            "installing: babel-2.5.3-py36_0 ...\n",
            "installing: backports.shutil_get_terminal_size-1.0.0-py36hfea85ff_2 ...\n",
            "installing: cffi-1.11.5-py36h9745a5d_0 ...\n",
            "installing: conda-verify-2.0.0-py36h98955d8_0 ...\n",
            "installing: cycler-0.10.0-py36h93f1223_0 ...\n",
            "installing: cytoolz-0.9.0.1-py36h14c3975_0 ...\n",
            "installing: harfbuzz-1.7.6-h5f0a787_1 ...\n",
            "installing: html5lib-1.0.1-py36h2f9c1c0_0 ...\n",
            "installing: jedi-0.12.0-py36_1 ...\n",
            "installing: more-itertools-4.1.0-py36_0 ...\n",
            "installing: networkx-2.1-py36_0 ...\n",
            "installing: nltk-3.3.0-py36_0 ...\n",
            "installing: openpyxl-2.5.3-py36_0 ...\n",
            "installing: packaging-17.1-py36_0 ...\n",
            "installing: partd-0.3.8-py36h36fd896_0 ...\n",
            "installing: pathlib2-2.3.2-py36_0 ...\n",
            "installing: pexpect-4.5.0-py36_0 ...\n",
            "installing: pillow-5.1.0-py36h3deb7b8_0 ...\n",
            "installing: pyqt-5.9.2-py36h751905a_0 ...\n",
            "installing: python-dateutil-2.7.3-py36_0 ...\n",
            "installing: qtawesome-0.4.4-py36h609ed8c_0 ...\n",
            "installing: setuptools-39.1.0-py36_0 ...\n",
            "installing: singledispatch-3.4.0.3-py36h7a266c3_0 ...\n",
            "installing: sortedcollections-0.6.1-py36_0 ...\n",
            "installing: sphinxcontrib-websupport-1.0.1-py36hb5cb234_1 ...\n",
            "installing: sympy-1.1.1-py36hc6d1c1c_0 ...\n",
            "installing: terminado-0.8.1-py36_1 ...\n",
            "installing: traitlets-4.3.2-py36h674d592_0 ...\n",
            "installing: zict-0.1.3-py36h3a3bf81_0 ...\n",
            "installing: astroid-1.6.3-py36_0 ...\n",
            "installing: bleach-2.1.3-py36_0 ...\n",
            "installing: clyent-1.2.2-py36h7e57e65_1 ...\n",
            "installing: cryptography-2.2.2-py36h14c3975_0 ...\n",
            "installing: cython-0.28.2-py36h14c3975_0 ...\n",
            "installing: distributed-1.21.8-py36_0 ...\n",
            "installing: get_terminal_size-1.0.0-haa9412d_0 ...\n",
            "installing: gevent-1.3.0-py36h14c3975_0 ...\n",
            "installing: isort-4.3.4-py36_0 ...\n",
            "installing: jinja2-2.10-py36ha16c418_0 ...\n",
            "installing: jsonschema-2.6.0-py36h006f8b5_0 ...\n",
            "installing: jupyter_core-4.4.0-py36h7c827e3_0 ...\n",
            "installing: navigator-updater-0.2.1-py36_0 ...\n",
            "installing: nose-1.3.7-py36hcdf7029_2 ...\n",
            "installing: pango-1.41.0-hd475d92_0 ...\n",
            "installing: pyflakes-1.6.0-py36h7bd6a15_0 ...\n",
            "installing: pygments-2.2.0-py36h0d3125c_0 ...\n",
            "installing: pytest-3.5.1-py36_0 ...\n",
            "installing: wheel-0.31.1-py36_0 ...\n",
            "installing: flask-1.0.2-py36_1 ...\n",
            "installing: jupyter_client-5.2.3-py36_0 ...\n",
            "installing: nbformat-4.4.0-py36h31c9010_0 ...\n",
            "installing: pip-10.0.1-py36_0 ...\n",
            "installing: prompt_toolkit-1.0.15-py36h17d85b1_0 ...\n",
            "installing: pylint-1.8.4-py36_0 ...\n",
            "installing: pyopenssl-18.0.0-py36_0 ...\n",
            "installing: pytest-openfiles-0.3.0-py36_0 ...\n",
            "installing: pytest-remotedata-0.2.1-py36_0 ...\n",
            "installing: flask-cors-3.0.4-py36_0 ...\n",
            "installing: ipython-6.4.0-py36_0 ...\n",
            "installing: nbconvert-5.3.1-py36hb41ffb7_0 ...\n",
            "installing: urllib3-1.22-py36hbe7ace6_0 ...\n",
            "installing: ipykernel-4.8.2-py36_0 ...\n",
            "installing: requests-2.18.4-py36he2e5f8d_1 ...\n",
            "installing: anaconda-client-1.6.14-py36_0 ...\n",
            "installing: jupyter_console-5.2.0-py36he59e554_1 ...\n",
            "installing: notebook-5.5.0-py36_0 ...\n",
            "installing: qtconsole-4.3.1-py36h8f73b5b_0 ...\n",
            "installing: sphinx-1.7.4-py36_0 ...\n",
            "installing: anaconda-navigator-1.8.7-py36_0 ...\n",
            "installing: anaconda-project-0.8.2-py36h44fb852_0 ...\n",
            "installing: jupyterlab_launcher-0.10.5-py36_0 ...\n",
            "installing: numpydoc-0.8.0-py36_0 ...\n",
            "installing: widgetsnbextension-3.2.1-py36_0 ...\n",
            "installing: ipywidgets-7.2.1-py36_0 ...\n",
            "installing: jupyterlab-0.32.1-py36_0 ...\n",
            "installing: spyder-3.2.8-py36_0 ...\n",
            "installing: _ipyw_jlab_nb_ext_conf-0.1.0-py36he11e457_0 ...\n",
            "installing: jupyter-1.0.0-py36_4 ...\n",
            "installing: bokeh-0.12.16-py36_0 ...\n",
            "installing: bottleneck-1.2.1-py36haac1ea0_0 ...\n",
            "installing: conda-4.5.4-py36_0 ...\n",
            "installing: conda-build-3.10.5-py36_0 ...\n",
            "installing: datashape-0.5.4-py36h3ad6b5c_0 ...\n",
            "installing: h5py-2.7.1-py36ha1f6525_2 ...\n",
            "installing: imageio-2.3.0-py36_0 ...\n",
            "installing: matplotlib-2.2.2-py36h0e671d2_1 ...\n",
            "installing: mkl_fft-1.0.1-py36h3010b51_0 ...\n",
            "installing: mkl_random-1.0.1-py36h629b387_0 ...\n",
            "installing: numpy-1.14.3-py36hcd700cb_1 ...\n",
            "installing: numba-0.38.0-py36h637b7d7_0 ...\n",
            "installing: numexpr-2.6.5-py36h7bf3b9c_0 ...\n",
            "installing: pandas-0.23.0-py36h637b7d7_0 ...\n",
            "installing: pytest-arraydiff-0.2-py36_0 ...\n",
            "installing: pytest-doctestplus-0.1.3-py36_0 ...\n",
            "installing: pywavelets-0.5.2-py36he602eb0_0 ...\n",
            "installing: scipy-1.1.0-py36hfc37229_0 ...\n",
            "installing: bkcharts-0.2-py36h735825a_0 ...\n",
            "installing: dask-0.17.5-py36_0 ...\n",
            "installing: patsy-0.5.0-py36_0 ...\n",
            "installing: pytables-3.4.3-py36h02b9ad4_2 ...\n",
            "installing: pytest-astropy-0.3.0-py36_0 ...\n",
            "installing: scikit-learn-0.19.1-py36h7aa7ec6_0 ...\n",
            "installing: astropy-3.0.2-py36h3010b51_1 ...\n",
            "installing: odo-0.5.1-py36h90ed295_0 ...\n",
            "installing: scikit-image-0.13.1-py36h14c3975_1 ...\n",
            "installing: statsmodels-0.9.0-py36h3010b51_0 ...\n",
            "installing: blaze-0.11.3-py36h4e06776_0 ...\n",
            "installing: seaborn-0.8.1-py36hfad7ec4_0 ...\n",
            "installing: anaconda-5.2.0-py36_3 ...\n",
            "installation finished.\n",
            "WARNING:\n",
            "    You currently have a PYTHONPATH environment variable set. This may cause\n",
            "    unexpected behavior when running the Python interpreter in Anaconda3.\n",
            "    For best results, please verify that your PYTHONPATH only points to\n",
            "    directories of packages that are compatible with the Python interpreter\n",
            "    in Anaconda3: /root/anaconda3\n"
          ],
          "name": "stdout"
        }
      ]
    },
    {
      "cell_type": "code",
      "metadata": {
        "id": "egB-rGYmEzlj"
      },
      "source": [
        "!ln -s /usr/local/lib/python3.7/dist-packages/google \\\n",
        "       /root/anaconda3/lib/python3.6/site-packages/google"
      ],
      "execution_count": null,
      "outputs": []
    },
    {
      "cell_type": "code",
      "metadata": {
        "colab": {
          "base_uri": "https://localhost:8080/"
        },
        "id": "J3IVBEFNH6If",
        "outputId": "2e8e5441-7a5f-4c69-feb8-c8a86eb35a74"
      },
      "source": [
        "!pip install pyngrok -q\n",
        "from pyngrok import ngrok\n",
        "print(ngrok.connect(8888))\n"
      ],
      "execution_count": null,
      "outputs": [
        {
          "output_type": "stream",
          "text": [
            "\u001b[?25l\r\u001b[K     |▍                               | 10kB 18.2MB/s eta 0:00:01\r\u001b[K     |▉                               | 20kB 11.2MB/s eta 0:00:01\r\u001b[K     |█▎                              | 30kB 8.7MB/s eta 0:00:01\r\u001b[K     |█▊                              | 40kB 7.6MB/s eta 0:00:01\r\u001b[K     |██▏                             | 51kB 4.3MB/s eta 0:00:01\r\u001b[K     |██▋                             | 61kB 4.8MB/s eta 0:00:01\r\u001b[K     |███                             | 71kB 5.2MB/s eta 0:00:01\r\u001b[K     |███▌                            | 81kB 5.3MB/s eta 0:00:01\r\u001b[K     |████                            | 92kB 5.1MB/s eta 0:00:01\r\u001b[K     |████▍                           | 102kB 4.2MB/s eta 0:00:01\r\u001b[K     |████▉                           | 112kB 4.2MB/s eta 0:00:01\r\u001b[K     |█████▎                          | 122kB 4.2MB/s eta 0:00:01\r\u001b[K     |█████▊                          | 133kB 4.2MB/s eta 0:00:01\r\u001b[K     |██████▏                         | 143kB 4.2MB/s eta 0:00:01\r\u001b[K     |██████▋                         | 153kB 4.2MB/s eta 0:00:01\r\u001b[K     |███████                         | 163kB 4.2MB/s eta 0:00:01\r\u001b[K     |███████▌                        | 174kB 4.2MB/s eta 0:00:01\r\u001b[K     |████████                        | 184kB 4.2MB/s eta 0:00:01\r\u001b[K     |████████▍                       | 194kB 4.2MB/s eta 0:00:01\r\u001b[K     |████████▉                       | 204kB 4.2MB/s eta 0:00:01\r\u001b[K     |█████████▎                      | 215kB 4.2MB/s eta 0:00:01\r\u001b[K     |█████████▊                      | 225kB 4.2MB/s eta 0:00:01\r\u001b[K     |██████████▏                     | 235kB 4.2MB/s eta 0:00:01\r\u001b[K     |██████████▌                     | 245kB 4.2MB/s eta 0:00:01\r\u001b[K     |███████████                     | 256kB 4.2MB/s eta 0:00:01\r\u001b[K     |███████████▍                    | 266kB 4.2MB/s eta 0:00:01\r\u001b[K     |███████████▉                    | 276kB 4.2MB/s eta 0:00:01\r\u001b[K     |████████████▎                   | 286kB 4.2MB/s eta 0:00:01\r\u001b[K     |████████████▊                   | 296kB 4.2MB/s eta 0:00:01\r\u001b[K     |█████████████▏                  | 307kB 4.2MB/s eta 0:00:01\r\u001b[K     |█████████████▋                  | 317kB 4.2MB/s eta 0:00:01\r\u001b[K     |██████████████                  | 327kB 4.2MB/s eta 0:00:01\r\u001b[K     |██████████████▌                 | 337kB 4.2MB/s eta 0:00:01\r\u001b[K     |███████████████                 | 348kB 4.2MB/s eta 0:00:01\r\u001b[K     |███████████████▍                | 358kB 4.2MB/s eta 0:00:01\r\u001b[K     |███████████████▉                | 368kB 4.2MB/s eta 0:00:01\r\u001b[K     |████████████████▎               | 378kB 4.2MB/s eta 0:00:01\r\u001b[K     |████████████████▊               | 389kB 4.2MB/s eta 0:00:01\r\u001b[K     |█████████████████▏              | 399kB 4.2MB/s eta 0:00:01\r\u001b[K     |█████████████████▋              | 409kB 4.2MB/s eta 0:00:01\r\u001b[K     |██████████████████              | 419kB 4.2MB/s eta 0:00:01\r\u001b[K     |██████████████████▌             | 430kB 4.2MB/s eta 0:00:01\r\u001b[K     |███████████████████             | 440kB 4.2MB/s eta 0:00:01\r\u001b[K     |███████████████████▍            | 450kB 4.2MB/s eta 0:00:01\r\u001b[K     |███████████████████▉            | 460kB 4.2MB/s eta 0:00:01\r\u001b[K     |████████████████████▎           | 471kB 4.2MB/s eta 0:00:01\r\u001b[K     |████████████████████▊           | 481kB 4.2MB/s eta 0:00:01\r\u001b[K     |█████████████████████           | 491kB 4.2MB/s eta 0:00:01\r\u001b[K     |█████████████████████▌          | 501kB 4.2MB/s eta 0:00:01\r\u001b[K     |██████████████████████          | 512kB 4.2MB/s eta 0:00:01\r\u001b[K     |██████████████████████▍         | 522kB 4.2MB/s eta 0:00:01\r\u001b[K     |██████████████████████▉         | 532kB 4.2MB/s eta 0:00:01\r\u001b[K     |███████████████████████▎        | 542kB 4.2MB/s eta 0:00:01\r\u001b[K     |███████████████████████▊        | 552kB 4.2MB/s eta 0:00:01\r\u001b[K     |████████████████████████▏       | 563kB 4.2MB/s eta 0:00:01\r\u001b[K     |████████████████████████▋       | 573kB 4.2MB/s eta 0:00:01\r\u001b[K     |█████████████████████████       | 583kB 4.2MB/s eta 0:00:01\r\u001b[K     |█████████████████████████▌      | 593kB 4.2MB/s eta 0:00:01\r\u001b[K     |██████████████████████████      | 604kB 4.2MB/s eta 0:00:01\r\u001b[K     |██████████████████████████▍     | 614kB 4.2MB/s eta 0:00:01\r\u001b[K     |██████████████████████████▉     | 624kB 4.2MB/s eta 0:00:01\r\u001b[K     |███████████████████████████▎    | 634kB 4.2MB/s eta 0:00:01\r\u001b[K     |███████████████████████████▊    | 645kB 4.2MB/s eta 0:00:01\r\u001b[K     |████████████████████████████▏   | 655kB 4.2MB/s eta 0:00:01\r\u001b[K     |████████████████████████████▋   | 665kB 4.2MB/s eta 0:00:01\r\u001b[K     |█████████████████████████████   | 675kB 4.2MB/s eta 0:00:01\r\u001b[K     |█████████████████████████████▌  | 686kB 4.2MB/s eta 0:00:01\r\u001b[K     |██████████████████████████████  | 696kB 4.2MB/s eta 0:00:01\r\u001b[K     |██████████████████████████████▍ | 706kB 4.2MB/s eta 0:00:01\r\u001b[K     |██████████████████████████████▉ | 716kB 4.2MB/s eta 0:00:01\r\u001b[K     |███████████████████████████████▏| 727kB 4.2MB/s eta 0:00:01\r\u001b[K     |███████████████████████████████▋| 737kB 4.2MB/s eta 0:00:01\r\u001b[K     |████████████████████████████████| 747kB 4.2MB/s \n",
            "\u001b[?25h  Building wheel for pyngrok (setup.py) ... \u001b[?25l\u001b[?25hdone\n",
            "NgrokTunnel: \"http://54781c3ea4e1.ngrok.io\" -> \"http://localhost:8888\"\n"
          ],
          "name": "stdout"
        }
      ]
    },
    {
      "cell_type": "code",
      "metadata": {
        "id": "IjR0pNf7ITN2"
      },
      "source": [
        "import os\n",
        "os.environ['PATH'] = '/root/anaconda3/bin:' + os.environ['PATH']"
      ],
      "execution_count": null,
      "outputs": []
    },
    {
      "cell_type": "code",
      "metadata": {
        "colab": {
          "base_uri": "https://localhost:8080/"
        },
        "id": "Vtbgpm-EIW8I",
        "outputId": "4cbede95-30e3-47dc-dbec-ed7e7f77805a"
      },
      "source": [
        "!python -V"
      ],
      "execution_count": null,
      "outputs": [
        {
          "output_type": "stream",
          "text": [
            "Python 3.6.5 :: Anaconda, Inc.\n"
          ],
          "name": "stdout"
        }
      ]
    },
    {
      "cell_type": "code",
      "metadata": {
        "colab": {
          "base_uri": "https://localhost:8080/"
        },
        "id": "a5DP-vo3IZ8v",
        "outputId": "f0cf4903-67e6-4826-e6fb-d684fb5e9669"
      },
      "source": [
        "!python train.py"
      ],
      "execution_count": null,
      "outputs": [
        {
          "output_type": "stream",
          "text": [
            "Traceback (most recent call last):\n",
            "  File \"train.py\", line 8, in <module>\n",
            "    import torch\n",
            "ModuleNotFoundError: No module named 'torch'\n"
          ],
          "name": "stdout"
        }
      ]
    },
    {
      "cell_type": "code",
      "metadata": {
        "colab": {
          "base_uri": "https://localhost:8080/"
        },
        "id": "LVokHmSKIg-3",
        "outputId": "86c21ac2-0941-4da9-cd6d-77b56a0d3b92"
      },
      "source": [
        "!pip install pillow==8.2.0\n"
      ],
      "execution_count": null,
      "outputs": [
        {
          "output_type": "stream",
          "text": [
            "Collecting pillow==8.2.0\n",
            "\u001b[?25l  Downloading https://files.pythonhosted.org/packages/89/d2/942af29f8494a1a3f4bc4f483d520f7c02ccae677f5f50cf76c6b3d827d8/Pillow-8.2.0-cp36-cp36m-manylinux1_x86_64.whl (3.0MB)\n",
            "\u001b[K    100% |████████████████████████████████| 3.0MB 9.6MB/s \n",
            "\u001b[31mdistributed 1.21.8 requires msgpack, which is not installed.\u001b[0m\n",
            "\u001b[?25hInstalling collected packages: pillow\n",
            "  Found existing installation: Pillow 5.1.0\n",
            "    Uninstalling Pillow-5.1.0:\n",
            "      Successfully uninstalled Pillow-5.1.0\n",
            "Successfully installed pillow-8.2.0\n"
          ],
          "name": "stdout"
        }
      ]
    },
    {
      "cell_type": "code",
      "metadata": {
        "colab": {
          "base_uri": "https://localhost:8080/"
        },
        "id": "ziWPJiDHI7Cv",
        "outputId": "426e90f2-88df-4285-ac9a-f95746413a43"
      },
      "source": [
        "pip install torch===1.2.0 torchvision===0.4.0 -f https://download.pytorch.org/whl/torch_stable.html"
      ],
      "execution_count": null,
      "outputs": [
        {
          "output_type": "stream",
          "text": [
            "Looking in links: https://download.pytorch.org/whl/torch_stable.html\n",
            "Collecting torch===1.2.0\n",
            "\u001b[?25l  Downloading https://files.pythonhosted.org/packages/30/57/d5cceb0799c06733eefce80c395459f28970ebb9e896846ce96ab579a3f1/torch-1.2.0-cp36-cp36m-manylinux1_x86_64.whl (748.8MB)\n",
            "\u001b[K    100% |████████████████████████████████| 748.9MB 26kB/s \n",
            "tcmalloc: large alloc 1073750016 bytes == 0x556c16674000 @  0x7f718bb9f2a4 0x556ba424ee25 0x7f7187329502 0x556ba4249c20 0x556ba42d967c 0x556ba42fbcba 0x556ba42d370b 0x556ba42d9755 0x556ba42fbcba 0x556ba42d2a94 0x556ba42d3941 0x556ba42d9755 0x556ba42fbcba 0x556ba42d2a94 0x556ba42d3941 0x556ba42d9755 0x556ba42fbcba 0x556ba42d2a94 0x556ba42d3941 0x556ba42d9755 0x556ba42fca7a 0x556ba42d370b 0x556ba42d9755 0x556ba42fbcba 0x556ba42d2a94 0x556ba42d3941 0x556ba42d9755 0x556ba42fca7a 0x556ba42d2a94 0x556ba42d3941 0x556ba42d9755\n",
            "tcmalloc: large alloc 1293778944 bytes == 0x556c56676000 @  0x7f718bb9e1e7 0x556ba42238b4 0x556ba4269924 0x556ba4269ad5 0x556ba42fc950 0x556ba42d2a94 0x556ba42d3941 0x556ba42d9755 0x556ba42fbcba 0x556ba42d2a94 0x556ba42d3941 0x556ba42d9755 0x556ba42fbcba 0x556ba42d2a94 0x556ba42d3941 0x556ba42d9755 0x556ba42fca7a 0x556ba42d370b 0x556ba42d9755 0x556ba42fbcba 0x556ba42d2a94 0x556ba42d3941 0x556ba42d9755 0x556ba42fca7a 0x556ba42d2a94 0x556ba42d3941 0x556ba42d9755 0x556ba42fca7a 0x556ba42d370b 0x556ba42d9755 0x556ba42fbcba\n",
            "\u001b[?25hCollecting torchvision===0.4.0\n",
            "\u001b[?25l  Downloading https://files.pythonhosted.org/packages/06/e6/a564eba563f7ff53aa7318ff6aaa5bd8385cbda39ed55ba471e95af27d19/torchvision-0.4.0-cp36-cp36m-manylinux1_x86_64.whl (8.8MB)\n",
            "\u001b[K    100% |████████████████████████████████| 8.8MB 2.8MB/s \n",
            "\u001b[?25hRequirement already satisfied: numpy in /root/anaconda3/lib/python3.6/site-packages (from torch===1.2.0) (1.14.3)\n",
            "Requirement already satisfied: pillow>=4.1.1 in /root/anaconda3/lib/python3.6/site-packages (from torchvision===0.4.0) (8.2.0)\n",
            "Requirement already satisfied: six in /root/anaconda3/lib/python3.6/site-packages (from torchvision===0.4.0) (1.11.0)\n",
            "\u001b[31mdistributed 1.21.8 requires msgpack, which is not installed.\u001b[0m\n",
            "Installing collected packages: torch, torchvision\n",
            "Successfully installed torch-1.2.0 torchvision-0.4.0\n"
          ],
          "name": "stdout"
        }
      ]
    },
    {
      "cell_type": "code",
      "metadata": {
        "colab": {
          "base_uri": "https://localhost:8080/"
        },
        "id": "9EWHJoYIJi9v",
        "outputId": "d46afe9b-497b-4188-c37d-f2095f517161"
      },
      "source": [
        "!pip install tqdm"
      ],
      "execution_count": null,
      "outputs": [
        {
          "output_type": "stream",
          "text": [
            "Collecting tqdm\n",
            "\u001b[?25l  Downloading https://files.pythonhosted.org/packages/7a/ec/f8ff3ccfc4e59ce619a66a0bf29dc3b49c2e8c07de29d572e191c006eaa2/tqdm-4.61.2-py2.py3-none-any.whl (76kB)\n",
            "\u001b[K    100% |████████████████████████████████| 81kB 4.9MB/s \n",
            "\u001b[31mdistributed 1.21.8 requires msgpack, which is not installed.\u001b[0m\n",
            "\u001b[?25hInstalling collected packages: tqdm\n",
            "Successfully installed tqdm-4.61.2\n"
          ],
          "name": "stdout"
        }
      ]
    },
    {
      "cell_type": "code",
      "metadata": {
        "colab": {
          "base_uri": "https://localhost:8080/",
          "height": 277
        },
        "id": "iueoWCGvJtfv",
        "outputId": "90fbfce6-6223-4ab0-c56b-7ce5190fe3a4"
      },
      "source": [
        "!pip install -U numpy"
      ],
      "execution_count": null,
      "outputs": [
        {
          "output_type": "stream",
          "text": [
            "Collecting numpy\n",
            "\u001b[?25l  Downloading https://files.pythonhosted.org/packages/45/b2/6c7545bb7a38754d63048c7696804a0d947328125d81bf12beaa692c3ae3/numpy-1.19.5-cp36-cp36m-manylinux1_x86_64.whl (13.4MB)\n",
            "\u001b[K    100% |████████████████████████████████| 13.4MB 2.9MB/s \n",
            "\u001b[31mdistributed 1.21.8 requires msgpack, which is not installed.\u001b[0m\n",
            "\u001b[?25hInstalling collected packages: numpy\n",
            "  Found existing installation: numpy 1.14.3\n",
            "    Uninstalling numpy-1.14.3:\n",
            "      Successfully uninstalled numpy-1.14.3\n",
            "Successfully installed numpy-1.19.5\n"
          ],
          "name": "stdout"
        },
        {
          "output_type": "display_data",
          "data": {
            "application/vnd.colab-display-data+json": {
              "pip_warning": {
                "packages": [
                  "numpy"
                ]
              }
            }
          },
          "metadata": {
            "tags": []
          }
        }
      ]
    },
    {
      "cell_type": "code",
      "metadata": {
        "colab": {
          "base_uri": "https://localhost:8080/"
        },
        "id": "8lJbz99tMnlo",
        "outputId": "765f0220-80cc-4de5-e22b-c838a42c3aec"
      },
      "source": [
        "!pip install opencv-python==4.5.1.48"
      ],
      "execution_count": null,
      "outputs": [
        {
          "output_type": "stream",
          "text": [
            "Collecting opencv-python==4.5.1.48\n",
            "  Downloading opencv_python-4.5.1.48-cp36-cp36m-manylinux2014_x86_64.whl (50.4 MB)\n",
            "\u001b[K     |████████████████████████████████| 50.4 MB 15 kB/s \n",
            "\u001b[?25hRequirement already satisfied: numpy>=1.13.3 in /root/anaconda3/lib/python3.6/site-packages (from opencv-python==4.5.1.48) (1.19.5)\n",
            "Installing collected packages: opencv-python\n",
            "Successfully installed opencv-python-4.5.1.48\n",
            "\u001b[33mWARNING: Running pip as the 'root' user can result in broken permissions and conflicting behaviour with the system package manager. It is recommended to use a virtual environment instead: https://pip.pypa.io/warnings/venv\u001b[0m\n"
          ],
          "name": "stdout"
        }
      ]
    },
    {
      "cell_type": "code",
      "metadata": {
        "id": "BButKIWxM2po"
      },
      "source": [
        "!pip show opencv-python"
      ],
      "execution_count": null,
      "outputs": []
    },
    {
      "cell_type": "code",
      "metadata": {
        "colab": {
          "base_uri": "https://localhost:8080/"
        },
        "id": "WfT7PyQ8RN4A",
        "outputId": "b4f6a93c-493d-4067-df9f-5a5e1afd9d4d"
      },
      "source": [
        "import os\n",
        "path=\"/content/gdrive/MyDrive/yolo3-pytorch\"\n",
        "os.chdir(path)\n",
        "os.listdir(path)"
      ],
      "execution_count": null,
      "outputs": [
        {
          "output_type": "execute_result",
          "data": {
            "text/plain": [
              "['ac.sh',\n",
              " 'VOC07_test',\n",
              " 'VOC07+12',\n",
              " 'model_data',\n",
              " 'nets',\n",
              " 'utils',\n",
              " 'VOCdevkit',\n",
              " 'logs',\n",
              " '.git',\n",
              " '__pycache__',\n",
              " 'img',\n",
              " '2007_test.txt',\n",
              " '2007_train.txt',\n",
              " '2007_val.txt',\n",
              " 'get_gt_txt.py',\n",
              " 'FPS_test.py',\n",
              " 'get_dr_txt.py',\n",
              " 'get_map.py',\n",
              " 'LICENSE',\n",
              " 'predict.py',\n",
              " 'README.md',\n",
              " 'test.py',\n",
              " 'video.py',\n",
              " 'train.py',\n",
              " 'voc_annotation.py',\n",
              " 'voc2yolo3.py',\n",
              " 'yolo.py',\n",
              " '常见问题汇总.md',\n",
              " 'yolo_weights.pth.baiduyun.p.downloading',\n",
              " 'opencv-python-4.5.1.48.tar.gz']"
            ]
          },
          "metadata": {
            "tags": []
          },
          "execution_count": 57
        }
      ]
    },
    {
      "cell_type": "code",
      "metadata": {
        "colab": {
          "base_uri": "https://localhost:8080/"
        },
        "id": "ElgFcFVMTTlJ",
        "outputId": "f4e4e0f4-3687-4108-d7e8-aecfba3c7066"
      },
      "source": [
        "!python -V"
      ],
      "execution_count": null,
      "outputs": [
        {
          "output_type": "stream",
          "text": [
            "Python 3.6.5 :: Anaconda, Inc.\n"
          ],
          "name": "stdout"
        }
      ]
    },
    {
      "cell_type": "code",
      "metadata": {
        "colab": {
          "base_uri": "https://localhost:8080/"
        },
        "id": "j5cCcetnVfIb",
        "outputId": "ef26d0eb-b702-4496-8e5a-41722f01c502"
      },
      "source": [
        "import os\n",
        "path=\"/bin\"\n",
        "os.chdir(path)\n",
        "os.listdir(path)"
      ],
      "execution_count": null,
      "outputs": [
        {
          "output_type": "execute_result",
          "data": {
            "text/plain": [
              "['bzless',\n",
              " 'bzip2recover',\n",
              " 'bzegrep',\n",
              " 'run-parts',\n",
              " 'touch',\n",
              " 'sh',\n",
              " 'dash',\n",
              " 'dmesg',\n",
              " 'echo',\n",
              " 'mount',\n",
              " 'ls',\n",
              " 'vdir',\n",
              " 'grep',\n",
              " 'sleep',\n",
              " 'zegrep',\n",
              " 'findmnt',\n",
              " 'ln',\n",
              " 'bzcat',\n",
              " 'zgrep',\n",
              " 'login',\n",
              " 'bzgrep',\n",
              " 'zless',\n",
              " 'mountpoint',\n",
              " 'pidof',\n",
              " 'sed',\n",
              " 'bzexe',\n",
              " 'nisdomainname',\n",
              " 'chgrp',\n",
              " 'bzfgrep',\n",
              " 'stty',\n",
              " 'zcat',\n",
              " 'more',\n",
              " 'pwd',\n",
              " 'sync',\n",
              " 'lsblk',\n",
              " 'dd',\n",
              " 'zdiff',\n",
              " 'mkdir',\n",
              " 'fgrep',\n",
              " 'cp',\n",
              " 'tar',\n",
              " 'ps',\n",
              " 'zcmp',\n",
              " 'readlink',\n",
              " 'mv',\n",
              " 'znew',\n",
              " 'false',\n",
              " 'uncompress',\n",
              " 'mktemp',\n",
              " 'umount',\n",
              " 'dir',\n",
              " 'zforce',\n",
              " 'bzcmp',\n",
              " 'gzexe',\n",
              " 'tempfile',\n",
              " 'zmore',\n",
              " 'bzip2',\n",
              " 'bash',\n",
              " 'wdctl',\n",
              " 'gzip',\n",
              " 'rbash',\n",
              " 'true',\n",
              " 'bzdiff',\n",
              " 'rm',\n",
              " 'egrep',\n",
              " 'rmdir',\n",
              " 'mknod',\n",
              " 'zfgrep',\n",
              " 'ypdomainname',\n",
              " 'chown',\n",
              " 'bzmore',\n",
              " 'df',\n",
              " 'cat',\n",
              " 'sh.distrib',\n",
              " 'dnsdomainname',\n",
              " 'hostname',\n",
              " 'uname',\n",
              " 'su',\n",
              " 'domainname',\n",
              " 'which',\n",
              " 'chmod',\n",
              " 'date',\n",
              " 'gunzip',\n",
              " 'kill',\n",
              " 'bunzip2',\n",
              " 'systemd-sysusers',\n",
              " 'fuser',\n",
              " 'systemd-ask-password',\n",
              " 'systemd-notify',\n",
              " 'lessecho',\n",
              " 'fusermount',\n",
              " 'systemd-machine-id-setup',\n",
              " 'systemd-tty-ask-password-agent',\n",
              " 'systemctl',\n",
              " 'systemd-escape',\n",
              " 'lsmod',\n",
              " 'udevadm',\n",
              " 'lesspipe',\n",
              " 'loginctl',\n",
              " 'journalctl',\n",
              " 'networkctl',\n",
              " 'systemd',\n",
              " 'kmod',\n",
              " 'ulockmgr_server',\n",
              " 'systemd-tmpfiles',\n",
              " 'systemd-inhibit',\n",
              " 'less',\n",
              " 'lesskey',\n",
              " 'lessfile',\n",
              " 'systemd-hwdb']"
            ]
          },
          "metadata": {
            "tags": []
          },
          "execution_count": 63
        }
      ]
    },
    {
      "cell_type": "code",
      "metadata": {
        "colab": {
          "base_uri": "https://localhost:8080/"
        },
        "id": "XtEUpVbFVoz7",
        "outputId": "20097d98-aebc-40b3-c282-b527a538d5c2"
      },
      "source": [
        "pip install -U python==3.6.13"
      ],
      "execution_count": null,
      "outputs": [
        {
          "output_type": "stream",
          "text": [
            "\u001b[31mERROR: Could not find a version that satisfies the requirement python==3.6.13 (from versions: none)\u001b[0m\n",
            "\u001b[31mERROR: No matching distribution found for python==3.6.13\u001b[0m\n"
          ],
          "name": "stdout"
        }
      ]
    }
  ]
}